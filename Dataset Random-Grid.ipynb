{
 "cells": [
  {
   "cell_type": "code",
   "execution_count": 100,
   "metadata": {},
   "outputs": [],
   "source": [
    "import pandas as pd\n",
    "import numpy as np\n",
    "\n",
    "import matplotlib.pyplot as plt\n",
    "import seaborn as sns\n",
    "\n",
    "from sklearn.preprocessing import MinMaxScaler, StandardScaler\n",
    "\n",
    "from sklearn.model_selection import train_test_split\n",
    "from sklearn.model_selection import GridSearchCV, RandomizedSearchCV\n",
    "\n",
    "from sklearn.metrics import r2_score, mean_absolute_error, mean_squared_error\n",
    "\n",
    "from sklearn.tree import DecisionTreeClassifier, DecisionTreeRegressor\n",
    "from sklearn.ensemble import BaggingClassifier, BaggingRegressor, RandomForestClassifier, RandomForestRegressor, GradientBoostingClassifier, GradientBoostingRegressor, AdaBoostRegressor\n"
   ]
  },
  {
   "cell_type": "code",
   "execution_count": 101,
   "metadata": {},
   "outputs": [],
   "source": [
    "new_df = pd.read_csv(\"new_flights.csv\")"
   ]
  },
  {
   "cell_type": "code",
   "execution_count": 102,
   "metadata": {},
   "outputs": [],
   "source": [
    "# Convertir las ciudades a categorias númericas\n",
    "new_df['ORIGIN_CITY'] = new_df['ORIGIN_CITY'].astype('category').cat.codes\n",
    "new_df['DEST_CITY'] = new_df['DEST_CITY'].astype('category').cat.codes"
   ]
  },
  {
   "cell_type": "code",
   "execution_count": 103,
   "metadata": {},
   "outputs": [],
   "source": [
    "# Reducir el tamaño del dataset\n",
    "small_df = new_df.head(100000)"
   ]
  },
  {
   "cell_type": "code",
   "execution_count": 104,
   "metadata": {},
   "outputs": [],
   "source": [
    "# Seleccionar features y target\n",
    "features = small_df[['MONTH', 'DAY', 'ORIGIN_CITY', 'DEST_CITY', 'AIR_TIME', 'DISTANCE', 'DEP_DELAY', 'TAXI_OUT']]\n",
    "target = small_df['ARR_DELAY']"
   ]
  },
  {
   "cell_type": "code",
   "execution_count": 105,
   "metadata": {},
   "outputs": [],
   "source": [
    "# Dividir los datos en conjuntos de entrenamiento y test\n",
    "X_train, X_test, y_train, y_test = train_test_split(features, target, test_size = 0.20, random_state=42)"
   ]
  },
  {
   "cell_type": "code",
   "execution_count": 106,
   "metadata": {},
   "outputs": [],
   "source": [
    "# Normalizar los datos\n",
    "normalizer = MinMaxScaler()\n",
    "normalizer.fit(X_train)\n",
    "\n",
    "X_train_norm = normalizer.transform(X_train)\n",
    "X_test_norm = normalizer.transform(X_test)\n",
    "\n",
    "X_train_norm = pd.DataFrame(X_train_norm, columns = X_train.columns)\n",
    "X_test_norm = pd.DataFrame(X_test_norm, columns = X_test.columns)"
   ]
  },
  {
   "cell_type": "code",
   "execution_count": 107,
   "metadata": {},
   "outputs": [
    {
     "data": {
      "text/plain": [
       "677"
      ]
     },
     "execution_count": 107,
     "metadata": {},
     "output_type": "execute_result"
    }
   ],
   "source": [
    "# Ejecutar recolector de basura para liberar memoria\n",
    "import gc\n",
    "gc.collect()"
   ]
  },
  {
   "cell_type": "code",
   "execution_count": 108,
   "metadata": {},
   "outputs": [
    {
     "name": "stdout",
     "output_type": "stream",
     "text": [
      "MAE:  7.61\n",
      "RMSE:  119.07\n",
      "R2 score:  0.97\n"
     ]
    }
   ],
   "source": [
    "# Modelo con parámetros por defecto\n",
    "forest = RandomForestRegressor(random_state=42, n_jobs=4, verbose=0)\n",
    "\n",
    "forest.fit(X_train_norm, y_train)\n",
    "\n",
    "pred = forest.predict(X_test_norm)\n",
    "score = forest.score(X_test_norm, y_test)\n",
    "\n",
    "print(f\"MAE: { mean_absolute_error(pred, y_test): .2f}\")\n",
    "print(f\"RMSE: { mean_squared_error(pred, y_test): .2f}\")\n",
    "print(f\"R2 score: { score: .2f}\")"
   ]
  },
  {
   "cell_type": "markdown",
   "metadata": {},
   "source": [
    "GRID SEARCH"
   ]
  },
  {
   "cell_type": "code",
   "execution_count": 109,
   "metadata": {},
   "outputs": [
    {
     "name": "stdout",
     "output_type": "stream",
     "text": [
      "Fitting 3 folds for each of 18 candidates, totalling 54 fits\n",
      "[CV 1/3; 1/18] START max_depth=10, min_samples_split=2, n_estimators=50.........\n",
      "[CV 1/3; 1/18] END max_depth=10, min_samples_split=2, n_estimators=50;, score=0.961 total time=   8.4s\n",
      "[CV 2/3; 1/18] START max_depth=10, min_samples_split=2, n_estimators=50.........\n",
      "[CV 2/3; 1/18] END max_depth=10, min_samples_split=2, n_estimators=50;, score=0.959 total time=   6.5s\n",
      "[CV 3/3; 1/18] START max_depth=10, min_samples_split=2, n_estimators=50.........\n",
      "[CV 3/3; 1/18] END max_depth=10, min_samples_split=2, n_estimators=50;, score=0.957 total time=  10.1s\n",
      "[CV 1/3; 2/18] START max_depth=10, min_samples_split=2, n_estimators=100........\n",
      "[CV 1/3; 2/18] END max_depth=10, min_samples_split=2, n_estimators=100;, score=0.961 total time=  13.4s\n",
      "[CV 2/3; 2/18] START max_depth=10, min_samples_split=2, n_estimators=100........\n",
      "[CV 2/3; 2/18] END max_depth=10, min_samples_split=2, n_estimators=100;, score=0.960 total time=  10.0s\n",
      "[CV 3/3; 2/18] START max_depth=10, min_samples_split=2, n_estimators=100........\n",
      "[CV 3/3; 2/18] END max_depth=10, min_samples_split=2, n_estimators=100;, score=0.957 total time=  10.4s\n",
      "[CV 1/3; 3/18] START max_depth=10, min_samples_split=2, n_estimators=200........\n",
      "[CV 1/3; 3/18] END max_depth=10, min_samples_split=2, n_estimators=200;, score=0.961 total time=  19.5s\n",
      "[CV 2/3; 3/18] START max_depth=10, min_samples_split=2, n_estimators=200........\n",
      "[CV 2/3; 3/18] END max_depth=10, min_samples_split=2, n_estimators=200;, score=0.960 total time=  19.2s\n",
      "[CV 3/3; 3/18] START max_depth=10, min_samples_split=2, n_estimators=200........\n",
      "[CV 3/3; 3/18] END max_depth=10, min_samples_split=2, n_estimators=200;, score=0.957 total time=  19.0s\n",
      "[CV 1/3; 4/18] START max_depth=10, min_samples_split=5, n_estimators=50.........\n",
      "[CV 1/3; 4/18] END max_depth=10, min_samples_split=5, n_estimators=50;, score=0.961 total time=   5.1s\n",
      "[CV 2/3; 4/18] START max_depth=10, min_samples_split=5, n_estimators=50.........\n",
      "[CV 2/3; 4/18] END max_depth=10, min_samples_split=5, n_estimators=50;, score=0.959 total time=   4.8s\n",
      "[CV 3/3; 4/18] START max_depth=10, min_samples_split=5, n_estimators=50.........\n",
      "[CV 3/3; 4/18] END max_depth=10, min_samples_split=5, n_estimators=50;, score=0.957 total time=   4.7s\n",
      "[CV 1/3; 5/18] START max_depth=10, min_samples_split=5, n_estimators=100........\n",
      "[CV 1/3; 5/18] END max_depth=10, min_samples_split=5, n_estimators=100;, score=0.961 total time=   9.9s\n",
      "[CV 2/3; 5/18] START max_depth=10, min_samples_split=5, n_estimators=100........\n",
      "[CV 2/3; 5/18] END max_depth=10, min_samples_split=5, n_estimators=100;, score=0.959 total time=   9.6s\n",
      "[CV 3/3; 5/18] START max_depth=10, min_samples_split=5, n_estimators=100........\n",
      "[CV 3/3; 5/18] END max_depth=10, min_samples_split=5, n_estimators=100;, score=0.957 total time=   9.6s\n",
      "[CV 1/3; 6/18] START max_depth=10, min_samples_split=5, n_estimators=200........\n",
      "[CV 1/3; 6/18] END max_depth=10, min_samples_split=5, n_estimators=200;, score=0.961 total time=  19.3s\n",
      "[CV 2/3; 6/18] START max_depth=10, min_samples_split=5, n_estimators=200........\n",
      "[CV 2/3; 6/18] END max_depth=10, min_samples_split=5, n_estimators=200;, score=0.960 total time=  18.9s\n",
      "[CV 3/3; 6/18] START max_depth=10, min_samples_split=5, n_estimators=200........\n",
      "[CV 3/3; 6/18] END max_depth=10, min_samples_split=5, n_estimators=200;, score=0.957 total time=  18.6s\n",
      "[CV 1/3; 7/18] START max_depth=10, min_samples_split=10, n_estimators=50........\n",
      "[CV 1/3; 7/18] END max_depth=10, min_samples_split=10, n_estimators=50;, score=0.961 total time=   4.5s\n",
      "[CV 2/3; 7/18] START max_depth=10, min_samples_split=10, n_estimators=50........\n",
      "[CV 2/3; 7/18] END max_depth=10, min_samples_split=10, n_estimators=50;, score=0.959 total time=   4.6s\n",
      "[CV 3/3; 7/18] START max_depth=10, min_samples_split=10, n_estimators=50........\n",
      "[CV 3/3; 7/18] END max_depth=10, min_samples_split=10, n_estimators=50;, score=0.957 total time=   4.5s\n",
      "[CV 1/3; 8/18] START max_depth=10, min_samples_split=10, n_estimators=100.......\n",
      "[CV 1/3; 8/18] END max_depth=10, min_samples_split=10, n_estimators=100;, score=0.961 total time=   8.9s\n",
      "[CV 2/3; 8/18] START max_depth=10, min_samples_split=10, n_estimators=100.......\n",
      "[CV 2/3; 8/18] END max_depth=10, min_samples_split=10, n_estimators=100;, score=0.959 total time=   9.1s\n",
      "[CV 3/3; 8/18] START max_depth=10, min_samples_split=10, n_estimators=100.......\n",
      "[CV 3/3; 8/18] END max_depth=10, min_samples_split=10, n_estimators=100;, score=0.957 total time=   8.9s\n",
      "[CV 1/3; 9/18] START max_depth=10, min_samples_split=10, n_estimators=200.......\n",
      "[CV 1/3; 9/18] END max_depth=10, min_samples_split=10, n_estimators=200;, score=0.961 total time=  18.5s\n",
      "[CV 2/3; 9/18] START max_depth=10, min_samples_split=10, n_estimators=200.......\n",
      "[CV 2/3; 9/18] END max_depth=10, min_samples_split=10, n_estimators=200;, score=0.960 total time=  18.4s\n",
      "[CV 3/3; 9/18] START max_depth=10, min_samples_split=10, n_estimators=200.......\n",
      "[CV 3/3; 9/18] END max_depth=10, min_samples_split=10, n_estimators=200;, score=0.957 total time=  18.4s\n",
      "[CV 1/3; 10/18] START max_depth=20, min_samples_split=2, n_estimators=50........\n",
      "[CV 1/3; 10/18] END max_depth=20, min_samples_split=2, n_estimators=50;, score=0.965 total time=   9.9s\n",
      "[CV 2/3; 10/18] START max_depth=20, min_samples_split=2, n_estimators=50........\n",
      "[CV 2/3; 10/18] END max_depth=20, min_samples_split=2, n_estimators=50;, score=0.963 total time=  10.6s\n",
      "[CV 3/3; 10/18] START max_depth=20, min_samples_split=2, n_estimators=50........\n",
      "[CV 3/3; 10/18] END max_depth=20, min_samples_split=2, n_estimators=50;, score=0.961 total time=  10.1s\n",
      "[CV 1/3; 11/18] START max_depth=20, min_samples_split=2, n_estimators=100.......\n",
      "[CV 1/3; 11/18] END max_depth=20, min_samples_split=2, n_estimators=100;, score=0.965 total time=  20.5s\n",
      "[CV 2/3; 11/18] START max_depth=20, min_samples_split=2, n_estimators=100.......\n",
      "[CV 2/3; 11/18] END max_depth=20, min_samples_split=2, n_estimators=100;, score=0.964 total time=  19.6s\n",
      "[CV 3/3; 11/18] START max_depth=20, min_samples_split=2, n_estimators=100.......\n",
      "[CV 3/3; 11/18] END max_depth=20, min_samples_split=2, n_estimators=100;, score=0.961 total time=  20.5s\n",
      "[CV 1/3; 12/18] START max_depth=20, min_samples_split=2, n_estimators=200.......\n",
      "[CV 1/3; 12/18] END max_depth=20, min_samples_split=2, n_estimators=200;, score=0.965 total time=  39.2s\n",
      "[CV 2/3; 12/18] START max_depth=20, min_samples_split=2, n_estimators=200.......\n",
      "[CV 2/3; 12/18] END max_depth=20, min_samples_split=2, n_estimators=200;, score=0.964 total time=  39.9s\n",
      "[CV 3/3; 12/18] START max_depth=20, min_samples_split=2, n_estimators=200.......\n",
      "[CV 3/3; 12/18] END max_depth=20, min_samples_split=2, n_estimators=200;, score=0.961 total time=  39.9s\n",
      "[CV 1/3; 13/18] START max_depth=20, min_samples_split=5, n_estimators=50........\n",
      "[CV 1/3; 13/18] END max_depth=20, min_samples_split=5, n_estimators=50;, score=0.964 total time=  10.4s\n",
      "[CV 2/3; 13/18] START max_depth=20, min_samples_split=5, n_estimators=50........\n",
      "[CV 2/3; 13/18] END max_depth=20, min_samples_split=5, n_estimators=50;, score=0.963 total time=   9.0s\n",
      "[CV 3/3; 13/18] START max_depth=20, min_samples_split=5, n_estimators=50........\n",
      "[CV 3/3; 13/18] END max_depth=20, min_samples_split=5, n_estimators=50;, score=0.961 total time=   9.3s\n",
      "[CV 1/3; 14/18] START max_depth=20, min_samples_split=5, n_estimators=100.......\n",
      "[CV 1/3; 14/18] END max_depth=20, min_samples_split=5, n_estimators=100;, score=0.965 total time=  18.4s\n",
      "[CV 2/3; 14/18] START max_depth=20, min_samples_split=5, n_estimators=100.......\n",
      "[CV 2/3; 14/18] END max_depth=20, min_samples_split=5, n_estimators=100;, score=0.964 total time=  17.9s\n",
      "[CV 3/3; 14/18] START max_depth=20, min_samples_split=5, n_estimators=100.......\n",
      "[CV 3/3; 14/18] END max_depth=20, min_samples_split=5, n_estimators=100;, score=0.961 total time=  18.5s\n",
      "[CV 1/3; 15/18] START max_depth=20, min_samples_split=5, n_estimators=200.......\n",
      "[CV 1/3; 15/18] END max_depth=20, min_samples_split=5, n_estimators=200;, score=0.965 total time=  36.0s\n",
      "[CV 2/3; 15/18] START max_depth=20, min_samples_split=5, n_estimators=200.......\n",
      "[CV 2/3; 15/18] END max_depth=20, min_samples_split=5, n_estimators=200;, score=0.964 total time=  36.4s\n",
      "[CV 3/3; 15/18] START max_depth=20, min_samples_split=5, n_estimators=200.......\n",
      "[CV 3/3; 15/18] END max_depth=20, min_samples_split=5, n_estimators=200;, score=0.961 total time=  36.3s\n",
      "[CV 1/3; 16/18] START max_depth=20, min_samples_split=10, n_estimators=50.......\n",
      "[CV 1/3; 16/18] END max_depth=20, min_samples_split=10, n_estimators=50;, score=0.964 total time=   8.9s\n",
      "[CV 2/3; 16/18] START max_depth=20, min_samples_split=10, n_estimators=50.......\n",
      "[CV 2/3; 16/18] END max_depth=20, min_samples_split=10, n_estimators=50;, score=0.963 total time=   8.8s\n",
      "[CV 3/3; 16/18] START max_depth=20, min_samples_split=10, n_estimators=50.......\n",
      "[CV 3/3; 16/18] END max_depth=20, min_samples_split=10, n_estimators=50;, score=0.961 total time=   8.8s\n",
      "[CV 1/3; 17/18] START max_depth=20, min_samples_split=10, n_estimators=100......\n",
      "[CV 1/3; 17/18] END max_depth=20, min_samples_split=10, n_estimators=100;, score=0.964 total time=  17.8s\n",
      "[CV 2/3; 17/18] START max_depth=20, min_samples_split=10, n_estimators=100......\n",
      "[CV 2/3; 17/18] END max_depth=20, min_samples_split=10, n_estimators=100;, score=0.964 total time=  17.1s\n",
      "[CV 3/3; 17/18] START max_depth=20, min_samples_split=10, n_estimators=100......\n",
      "[CV 3/3; 17/18] END max_depth=20, min_samples_split=10, n_estimators=100;, score=0.961 total time=  17.6s\n",
      "[CV 1/3; 18/18] START max_depth=20, min_samples_split=10, n_estimators=200......\n",
      "[CV 1/3; 18/18] END max_depth=20, min_samples_split=10, n_estimators=200;, score=0.964 total time=  33.4s\n",
      "[CV 2/3; 18/18] START max_depth=20, min_samples_split=10, n_estimators=200......\n",
      "[CV 2/3; 18/18] END max_depth=20, min_samples_split=10, n_estimators=200;, score=0.964 total time=  34.0s\n",
      "[CV 3/3; 18/18] START max_depth=20, min_samples_split=10, n_estimators=200......\n",
      "[CV 3/3; 18/18] END max_depth=20, min_samples_split=10, n_estimators=200;, score=0.961 total time=  33.4s\n",
      "Mejores parámetros: {'max_depth': 20, 'min_samples_split': 5, 'n_estimators': 200}\n",
      "Mejor puntuación: 0.9634065124014897\n",
      "MAE:  7.63\n",
      "RMSE:  118.67\n",
      "R2 score:  0.97\n"
     ]
    }
   ],
   "source": [
    "# Definir el rango de parámetros para probar\n",
    "params = {\n",
    "    'n_estimators': [50, 100, 200],        # Número de árboles\n",
    "    'max_depth': [10, 20],            # Profundidad máxima de los árboles\n",
    "    'min_samples_split': [2, 5, 10],         # Número mínimo de muestras para dividir un nodo\n",
    "}\n",
    "\n",
    "# Configurar el GridSearchCV\n",
    "grid_search = GridSearchCV(estimator=forest, param_grid=params, cv=3, n_jobs=1, verbose=10)\n",
    "\n",
    "# Ajustar el modelo a los datos de entrenamiento\n",
    "grid_search.fit(X_train_norm, y_train)\n",
    "\n",
    "# Ver los mejores parámetros encontrados\n",
    "print(f\"Mejores parámetros: {grid_search.best_params_}\")\n",
    "\n",
    "# Ver la mejor puntuación obtenida\n",
    "print(f\"Mejor puntuación: {grid_search.best_score_}\")\n",
    "\n",
    "# Evaluar el mejor modelo\n",
    "best_model = grid_search.best_estimator_\n",
    "pred = best_model.predict(X_test_norm)\n",
    "score = best_model.score(X_test_norm, y_test)\n",
    "\n",
    "print(f\"MAE: { mean_absolute_error(pred, y_test): .2f}\")\n",
    "print(f\"RMSE: { mean_squared_error(pred, y_test): .2f}\")\n",
    "print(f\"R2 score: { score: .2f}\")\n"
   ]
  },
  {
   "cell_type": "markdown",
   "metadata": {},
   "source": [
    "RANDOM SEARCH"
   ]
  },
  {
   "cell_type": "code",
   "execution_count": 110,
   "metadata": {},
   "outputs": [
    {
     "name": "stdout",
     "output_type": "stream",
     "text": [
      "Fitting 3 folds for each of 10 candidates, totalling 30 fits\n",
      "[CV 1/3; 1/10] START max_depth=35, min_samples_split=10, n_estimators=50........\n",
      "[CV 1/3; 1/10] END max_depth=35, min_samples_split=10, n_estimators=50;, score=0.964 total time=   9.9s\n",
      "[CV 2/3; 1/10] START max_depth=35, min_samples_split=10, n_estimators=50........\n",
      "[CV 2/3; 1/10] END max_depth=35, min_samples_split=10, n_estimators=50;, score=0.964 total time=   9.4s\n",
      "[CV 3/3; 1/10] START max_depth=35, min_samples_split=10, n_estimators=50........\n",
      "[CV 3/3; 1/10] END max_depth=35, min_samples_split=10, n_estimators=50;, score=0.961 total time=   9.7s\n",
      "[CV 1/3; 2/10] START max_depth=5, min_samples_split=6, n_estimators=500.........\n",
      "[CV 1/3; 2/10] END max_depth=5, min_samples_split=6, n_estimators=500;, score=0.955 total time=  21.9s\n",
      "[CV 2/3; 2/10] START max_depth=5, min_samples_split=6, n_estimators=500.........\n",
      "[CV 2/3; 2/10] END max_depth=5, min_samples_split=6, n_estimators=500;, score=0.953 total time=  21.4s\n",
      "[CV 3/3; 2/10] START max_depth=5, min_samples_split=6, n_estimators=500.........\n",
      "[CV 3/3; 2/10] END max_depth=5, min_samples_split=6, n_estimators=500;, score=0.949 total time=  21.1s\n",
      "[CV 1/3; 3/10] START max_depth=35, min_samples_split=2, n_estimators=500........\n",
      "[CV 1/3; 3/10] END max_depth=35, min_samples_split=2, n_estimators=500;, score=0.965 total time= 2.2min\n",
      "[CV 2/3; 3/10] START max_depth=35, min_samples_split=2, n_estimators=500........\n",
      "[CV 2/3; 3/10] END max_depth=35, min_samples_split=2, n_estimators=500;, score=0.964 total time= 1.9min\n",
      "[CV 3/3; 3/10] START max_depth=35, min_samples_split=2, n_estimators=500........\n",
      "[CV 3/3; 3/10] END max_depth=35, min_samples_split=2, n_estimators=500;, score=0.962 total time= 1.9min\n",
      "[CV 1/3; 4/10] START max_depth=20, min_samples_split=15, n_estimators=500.......\n",
      "[CV 1/3; 4/10] END max_depth=20, min_samples_split=15, n_estimators=500;, score=0.963 total time= 1.2min\n",
      "[CV 2/3; 4/10] START max_depth=20, min_samples_split=15, n_estimators=500.......\n",
      "[CV 2/3; 4/10] END max_depth=20, min_samples_split=15, n_estimators=500;, score=0.963 total time= 1.2min\n",
      "[CV 3/3; 4/10] START max_depth=20, min_samples_split=15, n_estimators=500.......\n",
      "[CV 3/3; 4/10] END max_depth=20, min_samples_split=15, n_estimators=500;, score=0.961 total time= 1.2min\n",
      "[CV 1/3; 5/10] START max_depth=20, min_samples_split=10, n_estimators=500.......\n",
      "[CV 1/3; 5/10] END max_depth=20, min_samples_split=10, n_estimators=500;, score=0.964 total time= 1.3min\n",
      "[CV 2/3; 5/10] START max_depth=20, min_samples_split=10, n_estimators=500.......\n",
      "[CV 2/3; 5/10] END max_depth=20, min_samples_split=10, n_estimators=500;, score=0.964 total time= 1.2min\n",
      "[CV 3/3; 5/10] START max_depth=20, min_samples_split=10, n_estimators=500.......\n",
      "[CV 3/3; 5/10] END max_depth=20, min_samples_split=10, n_estimators=500;, score=0.961 total time= 1.3min\n",
      "[CV 1/3; 6/10] START max_depth=50, min_samples_split=6, n_estimators=350........\n",
      "[CV 1/3; 6/10] END max_depth=50, min_samples_split=6, n_estimators=350;, score=0.965 total time= 1.1min\n",
      "[CV 2/3; 6/10] START max_depth=50, min_samples_split=6, n_estimators=350........\n",
      "[CV 2/3; 6/10] END max_depth=50, min_samples_split=6, n_estimators=350;, score=0.964 total time= 1.1min\n",
      "[CV 3/3; 6/10] START max_depth=50, min_samples_split=6, n_estimators=350........\n",
      "[CV 3/3; 6/10] END max_depth=50, min_samples_split=6, n_estimators=350;, score=0.962 total time= 1.1min\n",
      "[CV 1/3; 7/10] START max_depth=35, min_samples_split=15, n_estimators=350.......\n",
      "[CV 1/3; 7/10] END max_depth=35, min_samples_split=15, n_estimators=350;, score=0.963 total time=  56.4s\n",
      "[CV 2/3; 7/10] START max_depth=35, min_samples_split=15, n_estimators=350.......\n",
      "[CV 2/3; 7/10] END max_depth=35, min_samples_split=15, n_estimators=350;, score=0.964 total time=  57.6s\n",
      "[CV 3/3; 7/10] START max_depth=35, min_samples_split=15, n_estimators=350.......\n",
      "[CV 3/3; 7/10] END max_depth=35, min_samples_split=15, n_estimators=350;, score=0.962 total time=  57.4s\n",
      "[CV 1/3; 8/10] START max_depth=35, min_samples_split=2, n_estimators=350........\n",
      "[CV 1/3; 8/10] END max_depth=35, min_samples_split=2, n_estimators=350;, score=0.965 total time= 1.3min\n",
      "[CV 2/3; 8/10] START max_depth=35, min_samples_split=2, n_estimators=350........\n",
      "[CV 2/3; 8/10] END max_depth=35, min_samples_split=2, n_estimators=350;, score=0.964 total time= 7.9min\n",
      "[CV 3/3; 8/10] START max_depth=35, min_samples_split=2, n_estimators=350........\n",
      "[CV 3/3; 8/10] END max_depth=35, min_samples_split=2, n_estimators=350;, score=0.962 total time= 1.6min\n",
      "[CV 1/3; 9/10] START max_depth=35, min_samples_split=15, n_estimators=500.......\n",
      "[CV 1/3; 9/10] END max_depth=35, min_samples_split=15, n_estimators=500;, score=0.963 total time= 1.6min\n",
      "[CV 2/3; 9/10] START max_depth=35, min_samples_split=15, n_estimators=500.......\n",
      "[CV 2/3; 9/10] END max_depth=35, min_samples_split=15, n_estimators=500;, score=0.964 total time= 1.5min\n",
      "[CV 3/3; 9/10] START max_depth=35, min_samples_split=15, n_estimators=500.......\n",
      "[CV 3/3; 9/10] END max_depth=35, min_samples_split=15, n_estimators=500;, score=0.962 total time= 1.5min\n",
      "[CV 1/3; 10/10] START max_depth=5, min_samples_split=2, n_estimators=200........\n",
      "[CV 1/3; 10/10] END max_depth=5, min_samples_split=2, n_estimators=200;, score=0.956 total time=   8.8s\n",
      "[CV 2/3; 10/10] START max_depth=5, min_samples_split=2, n_estimators=200........\n",
      "[CV 2/3; 10/10] END max_depth=5, min_samples_split=2, n_estimators=200;, score=0.953 total time=   8.7s\n",
      "[CV 3/3; 10/10] START max_depth=5, min_samples_split=2, n_estimators=200........\n",
      "[CV 3/3; 10/10] END max_depth=5, min_samples_split=2, n_estimators=200;, score=0.949 total time=   9.1s\n",
      "Mejores parámetros: {'n_estimators': 350, 'min_samples_split': 6, 'max_depth': 50}\n",
      "Mejor puntuación: 0.9638021297043807\n",
      "MAE:  7.55\n",
      "RMSE:  117.13\n",
      "R2 score:  0.97\n"
     ]
    }
   ],
   "source": [
    "# Definir el rango de parámetros para probar\n",
    "params = {\n",
    "    \"n_estimators\": [int(x) for x in np.linspace(start = 50, stop = 500, num = 4)],\n",
    "    \"max_depth\":[int(x) for x in np.linspace(5, 50, num = 4)],\n",
    "    \"min_samples_split\": [int(x) for x in np.linspace(start = 2, stop = 15, num = 4)]\n",
    "}\n",
    "\n",
    "# Configurar el RandomizedSearchCV\n",
    "randomized_search = RandomizedSearchCV(estimator=forest, param_distributions=params, n_iter=10, cv=3, n_jobs=1, verbose=10)\n",
    "\n",
    "# Ajustar el modelo a los datos de entrenamiento\n",
    "randomized_search.fit(X_train_norm, y_train)\n",
    "\n",
    "# Ver los mejores parámetros encontrados\n",
    "print(f\"Mejores parámetros: {randomized_search.best_params_}\")\n",
    "\n",
    "# Ver la mejor puntuación obtenida\n",
    "print(f\"Mejor puntuación: {randomized_search.best_score_}\")\n",
    "\n",
    "# Evaluar el mejor modelo\n",
    "best_model = randomized_search.best_estimator_\n",
    "pred = best_model.predict(X_test_norm)\n",
    "score = best_model.score(X_test_norm, y_test)\n",
    "\n",
    "print(f\"MAE: { mean_absolute_error(pred, y_test): .2f}\")\n",
    "print(f\"RMSE: { mean_squared_error(pred, y_test): .2f}\")\n",
    "print(f\"R2 score: { score: .2f}\")"
   ]
  },
  {
   "cell_type": "code",
   "execution_count": 111,
   "metadata": {},
   "outputs": [
    {
     "name": "stdout",
     "output_type": "stream",
     "text": [
      "R2 score:  0.9688701374805637200893\n"
     ]
    }
   ],
   "source": [
    "print(f\"R2 score: { score: .22f}\")"
   ]
  }
 ],
 "metadata": {
  "kernelspec": {
   "display_name": ".venv",
   "language": "python",
   "name": "python3"
  },
  "language_info": {
   "codemirror_mode": {
    "name": "ipython",
    "version": 3
   },
   "file_extension": ".py",
   "mimetype": "text/x-python",
   "name": "python",
   "nbconvert_exporter": "python",
   "pygments_lexer": "ipython3",
   "version": "3.13.0"
  }
 },
 "nbformat": 4,
 "nbformat_minor": 2
}
